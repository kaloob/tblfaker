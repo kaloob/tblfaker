{
 "cells": [
  {
   "cell_type": "code",
   "execution_count": 1,
   "metadata": {},
   "outputs": [],
   "source": [
    "from tblfaker import TableFaker"
   ]
  },
  {
   "cell_type": "code",
   "execution_count": 2,
   "metadata": {},
   "outputs": [
    {
     "name": "stdout",
     "output_type": "stream",
     "text": [
      "[1]\n",
      "Row(name='Richard Wilson', address='8887 Mercedes Throughway\\nEast Ianshire, WV 39747')\n",
      "Row(name='Diane Carpenter', address='3994 Rachael Trace\\nEast Melodyville, NV 82657')\n",
      "Row(name='Benjamin Harrell', address='12521 Andrew Circles\\nDavidville, GA 91090')\n",
      "Row(name='Joshua Snyder', address='25471 Dustin Manor Apt. 901\\nPort Jade, OK 37522')\n",
      "\n",
      "[2]\n",
      "Row(name='Brandi Young', address='1613 Brown Plains\\nWalkerborough, SD 07159')\n",
      "Row(name='Antonio Stanley', address='64613 Smith Way\\nLake Ryan, AZ 83159')\n",
      "Row(name='Todd Fields', address='375 Eric Curve\\nSouth Mistyside, WY 90634')\n",
      "Row(name='Elizabeth Cowan', address='767 Devin Groves Suite 231\\nLucasborough, CO 78498')\n"
     ]
    }
   ],
   "source": [
    "faker = TableFaker()\n",
    "\n",
    "print(\"[1]\")\n",
    "for row in faker.generate([\"name\", \"address\"], rows=4).as_tuple():\n",
    "    print(row)\n",
    "\n",
    "print(\"\\n[2]\")\n",
    "for row in faker.generate([\"name\", \"address\"], rows=4).as_tuple():\n",
    "    print(row)"
   ]
  },
  {
   "cell_type": "code",
   "execution_count": 3,
   "metadata": {},
   "outputs": [
    {
     "name": "stdout",
     "output_type": "stream",
     "text": [
      "[1]\n",
      "Row(name='Ryan Gallagher', address='6317 Mary Light\\nSmithview, HI 13900')\n",
      "Row(name='Amanda Johnson', address='3608 Samuel Mews Apt. 337\\nHousebury, WA 13608')\n",
      "Row(name='Willie Heath', address='868 Santiago Grove\\nNicolehaven, NJ 05026')\n",
      "Row(name='Dr. Jared Ortega', address='517 Rodriguez Divide Suite 570\\nWest Melinda, NH 85325')\n",
      "\n",
      "[2]\n",
      "Row(name='Ryan Gallagher', address='6317 Mary Light\\nSmithview, HI 13900')\n",
      "Row(name='Amanda Johnson', address='3608 Samuel Mews Apt. 337\\nHousebury, WA 13608')\n",
      "Row(name='Willie Heath', address='868 Santiago Grove\\nNicolehaven, NJ 05026')\n",
      "Row(name='Dr. Jared Ortega', address='517 Rodriguez Divide Suite 570\\nWest Melinda, NH 85325')\n"
     ]
    }
   ],
   "source": [
    "seed = 1\n",
    "\n",
    "print(\"[1]\")\n",
    "faker = TableFaker(seed=seed)\n",
    "for row in faker.generate([\"name\", \"address\"], rows=4).as_tuple():\n",
    "    print(row)\n",
    "\n",
    "print(\"\\n[2]\")\n",
    "faker = TableFaker(seed=seed)\n",
    "for row in faker.generate([\"name\", \"address\"], rows=4).as_tuple():\n",
    "    print(row)"
   ]
  },
  {
   "cell_type": "code",
   "execution_count": 4,
   "metadata": {},
   "outputs": [
    {
     "name": "stdout",
     "output_type": "stream",
     "text": [
      "Row(name='高橋 零', address='京都府横浜市磯子区山中新田33丁目12番19号 アーバン鳥越906')\n",
      "Row(name='宮沢 裕美子', address='高知県三鷹市麹町28丁目2番16号 シャルム猿楽町867')\n",
      "Row(name='佐藤 明美', address='香川県新宿区東神田15丁目21番6号 皇居外苑ハイツ840')\n",
      "Row(name='野村 あすか', address='北海道新島村湯宮8丁目26番20号')\n"
     ]
    }
   ],
   "source": [
    "faker = TableFaker(locale=\"ja_JP\")\n",
    "\n",
    "for row in faker.generate([\"name\", \"address\"], rows=4).as_tuple():\n",
    "    print(row)"
   ]
  },
  {
   "cell_type": "code",
   "execution_count": 5,
   "metadata": {},
   "outputs": [
    {
     "name": "stdout",
     "output_type": "stream",
     "text": [
      "{\n",
      "    \"dict\": [\n",
      "        {\n",
      "            \"name\": \"Ryan Gallagher\",\n",
      "            \"address\": \"6317 Mary Light\\nSmithview, HI 13900\"\n",
      "        },\n",
      "        {\n",
      "            \"name\": \"Amanda Johnson\",\n",
      "            \"address\": \"3608 Samuel Mews Apt. 337\\nHousebury, WA 13608\"\n",
      "        }\n",
      "    ]\n",
      "}\n"
     ]
    }
   ],
   "source": [
    "import json\n",
    "\n",
    "faker = TableFaker(seed=1)\n",
    "\n",
    "print(json.dumps(faker.generate([\"name\", \"address\"], rows=2, table_name=\"dict\").as_dict(), indent=4))"
   ]
  },
  {
   "cell_type": "code",
   "execution_count": null,
   "metadata": {},
   "outputs": [],
   "source": []
  }
 ],
 "metadata": {
  "kernelspec": {
   "display_name": "Python 3",
   "language": "python",
   "name": "python3"
  },
  "language_info": {
   "codemirror_mode": {
    "name": "ipython",
    "version": 3
   },
   "file_extension": ".py",
   "mimetype": "text/x-python",
   "name": "python",
   "nbconvert_exporter": "python",
   "pygments_lexer": "ipython3",
   "version": "3.7.1"
  }
 },
 "nbformat": 4,
 "nbformat_minor": 2
}
